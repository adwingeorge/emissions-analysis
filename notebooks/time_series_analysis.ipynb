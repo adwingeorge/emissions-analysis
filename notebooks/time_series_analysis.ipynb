{
 "cells": [
  {
   "cell_type": "code",
   "execution_count": null,
   "id": "c5312cf3-d87f-49c1-83e1-0045e39f01f3",
   "metadata": {},
   "outputs": [],
   "source": [
    "import pandas as pd\n",
    "import matplotlib.pyplot as plt\n",
    "from statsmodels.tsa.arima.model import ARIMA\n",
    "from statsmodels.tsa.seasonal import seasonal_decompose"
   ]
  },
  {
   "cell_type": "code",
   "execution_count": null,
   "id": "c49416c2-3316-44e8-bc29-5049a4362c05",
   "metadata": {},
   "outputs": [],
   "source": [
    "# Load the preprocessed data\n",
    "data = pd.read_csv('../data/processed/X_train_scaled.csv')"
   ]
  },
  {
   "cell_type": "code",
   "execution_count": null,
   "id": "147f667e-1bfc-40f8-bd80-e4f67cbd97c4",
   "metadata": {},
   "outputs": [],
   "source": [
    "original_data = pd.read_csv('../data/raw/CO2_emissions.csv')"
   ]
  },
  {
   "cell_type": "code",
   "execution_count": null,
   "id": "bff443d3-5f42-494c-a1cf-a1da4b94e6a1",
   "metadata": {},
   "outputs": [],
   "source": [
    "# Set the 'Year' column as the index for time series analysis\n",
    "original_data.set_index('Year', inplace=True)"
   ]
  },
  {
   "cell_type": "code",
   "execution_count": null,
   "id": "2e593fb9-4078-4954-932e-98cabf50c13b",
   "metadata": {},
   "outputs": [],
   "source": [
    "# Perform seasonal decomposition\n",
    "decomposition = seasonal_decompose(original_data['CO2_emissions'], model='additive', period=1)\n",
    "decomposition.plot()\n",
    "plt.show()"
   ]
  },
  {
   "cell_type": "code",
   "execution_count": null,
   "id": "9706f1af-e597-4e25-9cbe-0306f00ab1d7",
   "metadata": {},
   "outputs": [],
   "source": [
    "# Fit an ARIMA model\n",
    "model = ARIMA(original_data['CO2_emissions'], order=(5, 1, 0))\n",
    "model_fit = model.fit()\n",
    "print(model_fit.summary())"
   ]
  },
  {
   "cell_type": "code",
   "execution_count": null,
   "id": "1cf35ee8-12f1-4607-94d3-55ecea4f9442",
   "metadata": {},
   "outputs": [],
   "source": [
    "# Forecast future CO2 emissions\n",
    "forecast = model_fit.forecast(steps=10)\n",
    "print(forecast)"
   ]
  }
 ],
 "metadata": {
  "kernelspec": {
   "display_name": "Python 3 (ipykernel)",
   "language": "python",
   "name": "python3"
  },
  "language_info": {
   "codemirror_mode": {
    "name": "ipython",
    "version": 3
   },
   "file_extension": ".py",
   "mimetype": "text/x-python",
   "name": "python",
   "nbconvert_exporter": "python",
   "pygments_lexer": "ipython3",
   "version": "3.9.6"
  }
 },
 "nbformat": 4,
 "nbformat_minor": 5
}
