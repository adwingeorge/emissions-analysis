{
 "cells": [
  {
   "cell_type": "code",
   "execution_count": null,
   "id": "561595c3-b2dd-4577-af87-1daa933522a1",
   "metadata": {},
   "outputs": [],
   "source": [
    "import pandas as pd\n",
    "import matplotlib.pyplot as plt\n",
    "import seaborn as sns\n",
    "import plotly.express as px"
   ]
  },
  {
   "cell_type": "code",
   "execution_count": null,
   "id": "55128af5-603e-42d4-85de-3cfed771fb5a",
   "metadata": {},
   "outputs": [],
   "source": [
    "# Load the dataset\n",
    "data = pd.read_csv('../data/raw/CO2_emissions.csv')"
   ]
  },
  {
   "cell_type": "code",
   "execution_count": null,
   "id": "41dee15a-0b5c-477c-adcc-cd2499381d32",
   "metadata": {},
   "outputs": [],
   "source": [
    "# Display basic information\n",
    "print(data.info())\n",
    "print(data.describe())"
   ]
  },
  {
   "cell_type": "code",
   "execution_count": null,
   "id": "4d7c4543-3eba-4fba-8f7f-a7bca5fecd47",
   "metadata": {},
   "outputs": [],
   "source": [
    "# Handle missing values\n",
    "data = data.dropna()"
   ]
  },
  {
   "cell_type": "code",
   "execution_count": null,
   "id": "47b98dd7-a4c3-4ccb-9843-00a621a9ce4f",
   "metadata": {},
   "outputs": [],
   "source": [
    "# Plotting the data using Seaborn\n",
    "plt.figure(figsize=(10, 6))\n",
    "sns.lineplot(data=data, x='Year', y='CO2_emissions', hue='Country')\n",
    "plt.title('CO2 Emissions Over Time')\n",
    "plt.xlabel('Year')\n",
    "plt.ylabel('CO2 Emissions')\n",
    "plt.show()"
   ]
  },
  {
   "cell_type": "code",
   "execution_count": null,
   "id": "4efa7c3a-fd33-4c70-97f9-6ac11f3a5f86",
   "metadata": {},
   "outputs": [],
   "source": [
    "# Interactive plot with Plotly\n",
    "fig = px.line(data, x='Year', y='CO2_emissions', color='Country', title='CO2 Emissions Over Time')\n",
    "fig.show()"
   ]
  }
 ],
 "metadata": {
  "kernelspec": {
   "display_name": "Python 3 (ipykernel)",
   "language": "python",
   "name": "python3"
  },
  "language_info": {
   "codemirror_mode": {
    "name": "ipython",
    "version": 3
   },
   "file_extension": ".py",
   "mimetype": "text/x-python",
   "name": "python",
   "nbconvert_exporter": "python",
   "pygments_lexer": "ipython3",
   "version": "3.9.6"
  }
 },
 "nbformat": 4,
 "nbformat_minor": 5
}
