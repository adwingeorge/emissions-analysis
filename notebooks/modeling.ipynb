{
 "cells": [
  {
   "cell_type": "code",
   "execution_count": null,
   "id": "8a3b2123-7daf-4384-98ef-f8691c690db2",
   "metadata": {},
   "outputs": [],
   "source": [
    "import pandas as pd\n",
    "from sklearn.linear_model import LinearRegression\n",
    "from sklearn.ensemble import RandomForestRegressor\n",
    "from sklearn.metrics import mean_squared_error, r2_score\n",
    "from sklearn.model_selection import GridSearchCV\n"
   ]
  },
  {
   "cell_type": "code",
   "execution_count": null,
   "id": "47dbf11f-f0ca-4c2e-b343-c8f388653602",
   "metadata": {},
   "outputs": [],
   "source": [
    "# Load the preprocessed data\n",
    "X_train = pd.read_csv('../data/processed/X_train_scaled.csv')\n",
    "X_test = pd.read_csv('../data/processed/X_test_scaled.csv')\n",
    "y_train = pd.read_csv('../data/processed/y_train.csv')\n",
    "y_test = pd.read_csv('../data/processed/y_test.csv')"
   ]
  },
  {
   "cell_type": "code",
   "execution_count": null,
   "id": "55488fef-f080-40a9-8e3e-adabbdb7059f",
   "metadata": {},
   "outputs": [],
   "source": [
    "# Linear Regression Model\n",
    "lr_model = LinearRegression()\n",
    "lr_model.fit(X_train, y_train)\n",
    "y_pred_lr = lr_model.predict(X_test)\n",
    "lr_rmse = mean_squared_error(y_test, y_pred_lr, squared=False)\n",
    "lr_r2 = r2_score(y_test, y_pred_lr)\n",
    "\n",
    "print(f'Linear Regression RMSE: {lr_rmse}')\n",
    "print(f'Linear Regression R^2: {lr_r2}')"
   ]
  },
  {
   "cell_type": "code",
   "execution_count": null,
   "id": "fa0139f9-311c-4d20-969e-9eab8bdf565b",
   "metadata": {},
   "outputs": [],
   "source": [
    "# Random Forest Model\n",
    "rf_model = RandomForestRegressor()\n",
    "rf_model.fit(X_train, y_train.values.ravel())\n",
    "y_pred_rf = rf_model.predict(X_test)\n",
    "rf_rmse = mean_squared_error(y_test, y_pred_rf, squared=False)\n",
    "rf_r2 = r2_score(y_test, y_pred_rf)"
   ]
  },
  {
   "cell_type": "code",
   "execution_count": null,
   "id": "8265a9d4-bc9f-4317-8ef2-38a8f9019236",
   "metadata": {},
   "outputs": [],
   "source": [
    "\n",
    "print(f'Random Forest RMSE: {rf_rmse}')\n",
    "print(f'Random Forest R^2: {rf_r2}')"
   ]
  },
  {
   "cell_type": "code",
   "execution_count": null,
   "id": "d7990de2-0fc5-4f0f-9cf1-1b7669497898",
   "metadata": {},
   "outputs": [],
   "source": [
    "# Hyperparameter Tuning for Random Forest\n",
    "param_grid = {\n",
    "    'n_estimators': [50, 100, 200],\n",
    "    'max_depth': [None, 10, 20, 30]\n",
    "}\n",
    "grid_search = GridSearchCV(estimator=rf_model, param_grid=param_grid, cv=3, n_jobs=-1, verbose=2)\n",
    "grid_search.fit(X_train, y_train.values.ravel())\n",
    "print(f'Best Params: {grid_search.best_params_}')"
   ]
  }
 ],
 "metadata": {
  "kernelspec": {
   "display_name": "Python 3 (ipykernel)",
   "language": "python",
   "name": "python3"
  },
  "language_info": {
   "codemirror_mode": {
    "name": "ipython",
    "version": 3
   },
   "file_extension": ".py",
   "mimetype": "text/x-python",
   "name": "python",
   "nbconvert_exporter": "python",
   "pygments_lexer": "ipython3",
   "version": "3.9.6"
  }
 },
 "nbformat": 4,
 "nbformat_minor": 5
}
