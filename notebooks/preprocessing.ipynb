{
 "cells": [
  {
   "cell_type": "code",
   "execution_count": null,
   "id": "27faf017-7990-4141-a363-173252586202",
   "metadata": {},
   "outputs": [],
   "source": [
    "import pandas as pd\n",
    "from sklearn.model_selection import train_test_split\n",
    "from sklearn.preprocessing import StandardScaler"
   ]
  },
  {
   "cell_type": "code",
   "execution_count": null,
   "id": "c9c36422-12ad-4736-ae43-93b89f014f68",
   "metadata": {},
   "outputs": [],
   "source": [
    "# Load the dataset\n",
    "data = pd.read_csv('../data/raw/CO2_emissions.csv')"
   ]
  },
  {
   "cell_type": "code",
   "execution_count": null,
   "id": "5d7d74a3-2a76-4626-9e6c-57c1012ef73a",
   "metadata": {},
   "outputs": [],
   "source": [
    "# Display basic information\n",
    "print(data.info())\n",
    "print(data.describe())\n"
   ]
  },
  {
   "cell_type": "code",
   "execution_count": null,
   "id": "c4a85a6a-8c53-402f-8fa6-8bc4bc4aa196",
   "metadata": {},
   "outputs": [],
   "source": [
    "# Handle missing values (if any)\n",
    "data = data.dropna()"
   ]
  },
  {
   "cell_type": "code",
   "execution_count": null,
   "id": "f7e8061e-c17c-49f4-8462-6cccddf4f7b4",
   "metadata": {},
   "outputs": [],
   "source": [
    "# Feature engineering: creating a log-transformed feature\n",
    "data['log_emissions'] = np.log(data['CO2_emissions'] + 1)"
   ]
  },
  {
   "cell_type": "code",
   "execution_count": null,
   "id": "eae8a4e0-ac51-4cf6-b906-b9e843af7978",
   "metadata": {},
   "outputs": [],
   "source": [
    "# Define features and target variable\n",
    "X = data[['Year']]  \n",
    "y = data['log_emissions']"
   ]
  },
  {
   "cell_type": "code",
   "execution_count": null,
   "id": "1297a566-9aa9-4d79-8390-a4b6a77f8691",
   "metadata": {},
   "outputs": [],
   "source": [
    "# Split the data into training and testing sets\n",
    "X_train, X_test, y_train, y_test = train_test_split(X, y, test_size=0.2, random_state=42)\n"
   ]
  },
  {
   "cell_type": "code",
   "execution_count": null,
   "id": "cb6f92a3-a8a3-4a3b-84f1-b20c7a1900ab",
   "metadata": {},
   "outputs": [],
   "source": [
    "# Normalize the features\n",
    "scaler = StandardScaler()\n",
    "X_train_scaled = scaler.fit_transform(X_train)\n",
    "X_test_scaled = scaler.transform(X_test)"
   ]
  },
  {
   "cell_type": "code",
   "execution_count": null,
   "id": "cd020961-f86c-41a2-8a5d-dbfad5726348",
   "metadata": {},
   "outputs": [],
   "source": [
    "X_train_scaled_df = pd.DataFrame(X_train_scaled, columns=['Year'])\n",
    "X_test_scaled_df = pd.DataFrame(X_test_scaled, columns=['Year'])\n",
    "y_train_df = pd.DataFrame(y_train, columns=['log_emissions'])\n",
    "y_test_df = pd.DataFrame(y_test, columns=['log_emissions'])"
   ]
  },
  {
   "cell_type": "code",
   "execution_count": null,
   "id": "5d0826da-57da-41b5-8419-73a7374572d0",
   "metadata": {},
   "outputs": [],
   "source": [
    "X_train_scaled_df.to_csv('../data/processed/X_train_scaled.csv', index=False)\n",
    "X_test_scaled_df.to_csv('../data/processed/X_test_scaled.csv', index=False)\n",
    "y_train_df.to_csv('../data/processed/y_train.csv', index=False)\n",
    "y_test_df.to_csv('../data/processed/y_test.csv', index=False)"
   ]
  }
 ],
 "metadata": {
  "kernelspec": {
   "display_name": "Python 3 (ipykernel)",
   "language": "python",
   "name": "python3"
  },
  "language_info": {
   "codemirror_mode": {
    "name": "ipython",
    "version": 3
   },
   "file_extension": ".py",
   "mimetype": "text/x-python",
   "name": "python",
   "nbconvert_exporter": "python",
   "pygments_lexer": "ipython3",
   "version": "3.9.6"
  }
 },
 "nbformat": 4,
 "nbformat_minor": 5
}
